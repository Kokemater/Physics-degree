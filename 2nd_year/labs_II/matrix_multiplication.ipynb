{
 "cells": [
  {
   "cell_type": "code",
   "execution_count": null,
   "metadata": {},
   "outputs": [
    {
     "ename": "AttributeError",
     "evalue": "'numpy.ndarray' object has no attribute 'det'",
     "output_type": "error",
     "traceback": [
      "\u001b[0;31m---------------------------------------------------------------------------\u001b[0m",
      "\u001b[0;31mAttributeError\u001b[0m                            Traceback (most recent call last)",
      "Cell \u001b[0;32mIn[9], line 21\u001b[0m\n\u001b[1;32m     14\u001b[0m \u001b[38;5;66;03m# Definir la matriz de rotación para alinear el eje con (1, 1, 1)\u001b[39;00m\n\u001b[1;32m     15\u001b[0m \u001b[38;5;66;03m# Una rotación simple para obtener los cosenos directores iguales (1/√3, 1/√3, 1/√3)\u001b[39;00m\n\u001b[1;32m     16\u001b[0m R \u001b[38;5;241m=\u001b[39m np\u001b[38;5;241m.\u001b[39marray([\n\u001b[1;32m     17\u001b[0m     [\u001b[38;5;241m1\u001b[39m\u001b[38;5;241m/\u001b[39mnp\u001b[38;5;241m.\u001b[39msqrt(\u001b[38;5;241m3\u001b[39m), \u001b[38;5;241m1\u001b[39m\u001b[38;5;241m/\u001b[39mnp\u001b[38;5;241m.\u001b[39msqrt(\u001b[38;5;241m2\u001b[39m), \u001b[38;5;241m1\u001b[39m\u001b[38;5;241m/\u001b[39mnp\u001b[38;5;241m.\u001b[39msqrt(\u001b[38;5;241m6\u001b[39m)],\n\u001b[1;32m     18\u001b[0m     [\u001b[38;5;241m1\u001b[39m\u001b[38;5;241m/\u001b[39mnp\u001b[38;5;241m.\u001b[39msqrt(\u001b[38;5;241m3\u001b[39m), \u001b[38;5;241m-\u001b[39m\u001b[38;5;241m1\u001b[39m\u001b[38;5;241m/\u001b[39mnp\u001b[38;5;241m.\u001b[39msqrt(\u001b[38;5;241m2\u001b[39m), \u001b[38;5;241m1\u001b[39m\u001b[38;5;241m/\u001b[39mnp\u001b[38;5;241m.\u001b[39msqrt(\u001b[38;5;241m6\u001b[39m)],\n\u001b[1;32m     19\u001b[0m     [\u001b[38;5;241m1\u001b[39m\u001b[38;5;241m/\u001b[39mnp\u001b[38;5;241m.\u001b[39msqrt(\u001b[38;5;241m3\u001b[39m), \u001b[38;5;241m0\u001b[39m,                \u001b[38;5;241m-\u001b[39m\u001b[38;5;241m2\u001b[39m\u001b[38;5;241m/\u001b[39mnp\u001b[38;5;241m.\u001b[39msqrt(\u001b[38;5;241m6\u001b[39m)]\n\u001b[1;32m     20\u001b[0m ])\n\u001b[0;32m---> 21\u001b[0m \u001b[38;5;28mprint\u001b[39m(\u001b[43mR\u001b[49m\u001b[38;5;241;43m.\u001b[39;49m\u001b[43mdet\u001b[49m())\n\u001b[1;32m     23\u001b[0m \u001b[38;5;66;03m# Calcular el tensor de inercia transformado I' = R I R^T\u001b[39;00m\n\u001b[1;32m     24\u001b[0m I_prime \u001b[38;5;241m=\u001b[39m R\u001b[38;5;241m.\u001b[39mT \u001b[38;5;241m@\u001b[39m I_image \u001b[38;5;241m@\u001b[39m R\n",
      "\u001b[0;31mAttributeError\u001b[0m: 'numpy.ndarray' object has no attribute 'det'"
     ]
    }
   ],
   "source": [
    "import numpy as np\n",
    "\n",
    "# Definir el tensor de inercia a partir de la imagen\n",
    "m = 1  # masa\n",
    "a = 1  # distancia (suponemos una distancia 'a' para simplificación)\n",
    "\n",
    "# Definir los valores del tensor de inercia (8ma^2, 2ma^2, 10ma^2)\n",
    "I_image = np.array([\n",
    "    [8*m*a**2, 0, 0],\n",
    "    [0, 2*m*a**2, 0],\n",
    "    [0, 0, 10*m*a**2]\n",
    "])\n",
    "\n",
    "# Definir la matriz de rotación para alinear el eje con (1, 1, 1)\n",
    "# Una rotación simple para obtener los cosenos directores iguales (1/√3, 1/√3, 1/√3)\n",
    "R = np.array([\n",
    "    [1/np.sqrt(3), 1/np.sqrt(2), 1/np.sqrt(6)],\n",
    "    [1/np.sqrt(3), -1/np.sqrt(2), 1/np.sqrt(6)],\n",
    "    [1/np.sqrt(3), 0,                -2/np.sqrt(6)]\n",
    "])\n",
    "print((R))\n",
    "\n",
    "# Calcular el tensor de inercia transformado I' = R I R^T\n",
    "I_prime = R.T @ I_image @ R\n",
    "\n",
    "# Definir el vector unitario del eje (1,1,1)\n",
    "u = np.array([1, 1, 1]) / np.sqrt(3)\n",
    "\n",
    "# Calcular el momento de inercia respecto al eje (1,1,1) usando I'\n",
    "I_moment_prime = u.T @ I_prime @ u\n",
    "\n",
    "# Mostrar el resultado\n",
    "print(\"Tensor de inercia transformado (I'):\")\n",
    "print(I_prime)\n",
    "print(\"\\nMomento de inercia respecto al eje (1,1,1):\")\n",
    "print(I_moment_prime)\n"
   ]
  }
 ],
 "metadata": {
  "kernelspec": {
   "display_name": "Python 3",
   "language": "python",
   "name": "python3"
  },
  "language_info": {
   "codemirror_mode": {
    "name": "ipython",
    "version": 3
   },
   "file_extension": ".py",
   "mimetype": "text/x-python",
   "name": "python",
   "nbconvert_exporter": "python",
   "pygments_lexer": "ipython3",
   "version": "3.10.12"
  }
 },
 "nbformat": 4,
 "nbformat_minor": 2
}
