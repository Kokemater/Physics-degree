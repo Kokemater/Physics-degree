{
 "cells": [
  {
   "cell_type": "code",
   "execution_count": 122,
   "metadata": {},
   "outputs": [],
   "source": [
    "import numpy as np\n"
   ]
  },
  {
   "cell_type": "markdown",
   "metadata": {},
   "source": [
    "# Creación de Arrays"
   ]
  },
  {
   "cell_type": "code",
   "execution_count": 123,
   "metadata": {},
   "outputs": [
    {
     "data": {
      "text/plain": [
       "array([0, 1, 2, 3, 4, 5, 6, 7, 8])"
      ]
     },
     "execution_count": 123,
     "metadata": {},
     "output_type": "execute_result"
    }
   ],
   "source": [
    "array = np.array([i for i in range(10)])\n",
    "array = np.arange(9) # is the same\n",
    "array"
   ]
  },
  {
   "cell_type": "code",
   "execution_count": 124,
   "metadata": {},
   "outputs": [
    {
     "data": {
      "text/plain": [
       "array([[0, 1, 2],\n",
       "       [3, 4, 5],\n",
       "       [6, 7, 8]])"
      ]
     },
     "execution_count": 124,
     "metadata": {},
     "output_type": "execute_result"
    }
   ],
   "source": [
    "array = array.reshape((3,3))\n",
    "array"
   ]
  },
  {
   "cell_type": "code",
   "execution_count": 125,
   "metadata": {},
   "outputs": [
    {
     "data": {
      "text/plain": [
       "array([[0., 0., 0.],\n",
       "       [0., 0., 0.]])"
      ]
     },
     "execution_count": 125,
     "metadata": {},
     "output_type": "execute_result"
    }
   ],
   "source": [
    "zeros = np.zeros((2,3))\n",
    "zeros"
   ]
  },
  {
   "cell_type": "code",
   "execution_count": 126,
   "metadata": {},
   "outputs": [
    {
     "data": {
      "text/plain": [
       "array([[[1., 1.],\n",
       "        [1., 1.]],\n",
       "\n",
       "       [[1., 1.],\n",
       "        [1., 1.]],\n",
       "\n",
       "       [[1., 1.],\n",
       "        [1., 1.]]])"
      ]
     },
     "execution_count": 126,
     "metadata": {},
     "output_type": "execute_result"
    }
   ],
   "source": [
    "ones = np.ones((3,2,2))\n",
    "ones"
   ]
  },
  {
   "cell_type": "markdown",
   "metadata": {},
   "source": [
    "# Operaciones básicas"
   ]
  },
  {
   "cell_type": "code",
   "execution_count": 127,
   "metadata": {},
   "outputs": [
    {
     "data": {
      "text/plain": [
       "array([1, 2, 3, 4, 5, 6, 7, 8, 9])"
      ]
     },
     "execution_count": 127,
     "metadata": {},
     "output_type": "execute_result"
    }
   ],
   "source": [
    "# suma\n",
    "arr1 = np.arange(9)\n",
    "arr2 = np.array([1 for _ in range(9)])\n",
    "arr1 + arr2\n"
   ]
  },
  {
   "cell_type": "code",
   "execution_count": 128,
   "metadata": {},
   "outputs": [
    {
     "name": "stdout",
     "output_type": "stream",
     "text": [
      "1.0\n",
      "0.0\n"
     ]
    }
   ],
   "source": [
    "ones = np.ones((1,2)).reshape(-1)\n",
    "twos = np.ones((1,2)).reshape(-1) * 2\n",
    "result = (ones * twos) / 2\n",
    "result[1] = 0\n",
    "print(result.max())\n",
    "print(result.min())"
   ]
  },
  {
   "cell_type": "markdown",
   "metadata": {},
   "source": [
    "# Slicing"
   ]
  },
  {
   "cell_type": "code",
   "execution_count": 129,
   "metadata": {},
   "outputs": [
    {
     "name": "stdout",
     "output_type": "stream",
     "text": [
      "[[0.67222806 0.84189307 1.1493239 ]\n",
      " [1.02508099 0.83960197 1.393853  ]\n",
      " [1.05081418 1.02802002 1.24716941]]\n",
      "[[0.67222806 1.1493239 ]\n",
      " [1.05081418 1.24716941]]\n"
     ]
    }
   ],
   "source": [
    "matrix1 = np.random.rand(3,3)\n",
    "matrix2 = np.random.randint(10, 20, (3,2))\n",
    "result = matrix1.dot(matrix1)\n",
    "print(result)\n",
    "print(result[0:3:2,0:3:2])"
   ]
  },
  {
   "cell_type": "markdown",
   "metadata": {},
   "source": [
    "# Manipulación de arrays"
   ]
  },
  {
   "cell_type": "code",
   "execution_count": 150,
   "metadata": {},
   "outputs": [
    {
     "name": "stdout",
     "output_type": "stream",
     "text": [
      "[[6 9]]\n",
      "[[6]\n",
      " [9]]\n",
      "[[6 9]\n",
      " [6 9]]\n",
      "[[6 9 6 9]]\n"
     ]
    }
   ],
   "source": [
    "# trasponer \n",
    "np.random.seed(1)\n",
    "matrix1 = np.random.randint(1,10, (1,2))\n",
    "print(matrix1)\n",
    "print(matrix1.T)\n",
    "matrix = np.concatenate((matrix1, matrix1),axis=0) # Abajo\n",
    "print(matrix)\n",
    "matrix = np.concatenate((matrix1, matrix1),axis=1) # Al lado\n",
    "print(matrix)"
   ]
  },
  {
   "cell_type": "markdown",
   "metadata": {
    "vscode": {
     "languageId": "latex"
    }
   },
   "source": [
    "Latex : HOla $\\frac{1}{2}$ $$ 123$$"
   ]
  },
  {
   "cell_type": "markdown",
   "metadata": {},
   "source": [
    "# Funciones matemáticas"
   ]
  },
  {
   "cell_type": "code",
   "execution_count": 130,
   "metadata": {},
   "outputs": [
    {
     "name": "stdout",
     "output_type": "stream",
     "text": [
      "50.0\n",
      "29.154759474226502\n",
      "5050\n"
     ]
    }
   ],
   "source": [
    "lista  = np.arange(101)\n",
    "print(lista.mean())\n",
    "print(lista.std())\n",
    "print(lista.sum())\n"
   ]
  },
  {
   "cell_type": "code",
   "execution_count": 133,
   "metadata": {},
   "outputs": [
    {
     "data": {
      "text/plain": [
       "array([0.71893738, 0.69631402, 0.78930527, 0.78927174, 0.98808159,\n",
       "       0.97041489, 0.78532611, 0.87621788, 0.88466346, 0.71362406,\n",
       "       0.64228512, 0.97769899, 0.90448194, 0.94891914, 0.83268551,\n",
       "       0.98538018, 0.96819755, 0.65444032, 0.987418  , 0.97739241,\n",
       "       0.98434327, 0.85287097, 0.78430082, 0.89281182, 0.65559583,\n",
       "       0.96378228, 0.97421826, 0.84620692, 0.5981011 , 0.80963492,\n",
       "       0.78175454, 0.89896524, 0.70930779, 0.86988257, 0.68785016,\n",
       "       0.69356798, 0.78601006, 0.97183294, 0.63956728, 0.95380971,\n",
       "       0.82628126, 0.9211458 , 0.683349  , 0.98940206, 0.95658987,\n",
       "       0.96073903, 0.86922834, 0.78063047, 0.63787284, 0.72338103,\n",
       "       0.69407829, 0.99480647, 0.96604571, 0.78110629, 0.85330157,\n",
       "       0.99937917, 0.97245709, 0.65589574, 0.90356746, 0.95652978,\n",
       "       0.81061075, 0.79633427, 0.80929307, 0.76445438, 0.89431844,\n",
       "       0.7011077 , 0.67998411, 0.94782481, 0.82295702, 0.96016182,\n",
       "       0.91913536, 0.98004943, 0.85590228, 0.77413741, 0.68976491,\n",
       "       0.80428369, 0.86425799, 0.9978685 , 0.99302629, 0.97897394,\n",
       "       0.80784786, 0.93798812, 0.96135786, 0.8998272 , 0.99685971,\n",
       "       0.77872509, 0.83009979, 0.99996202, 0.99194143, 0.86527455,\n",
       "       0.91456471, 0.81430121, 0.83990225, 0.92103545, 0.55353647,\n",
       "       0.99973908, 0.94048062, 0.79224986, 0.69333091, 0.81224245])"
      ]
     },
     "execution_count": 133,
     "metadata": {},
     "output_type": "execute_result"
    }
   ],
   "source": [
    "lista = np.random.rand(100)\n",
    "np.cos(lista)"
   ]
  }
 ],
 "metadata": {
  "kernelspec": {
   "display_name": "base",
   "language": "python",
   "name": "python3"
  },
  "language_info": {
   "codemirror_mode": {
    "name": "ipython",
    "version": 3
   },
   "file_extension": ".py",
   "mimetype": "text/x-python",
   "name": "python",
   "nbconvert_exporter": "python",
   "pygments_lexer": "ipython3",
   "version": "3.12.4"
  }
 },
 "nbformat": 4,
 "nbformat_minor": 2
}
