{
 "cells": [
  {
   "cell_type": "code",
   "execution_count": 1,
   "metadata": {},
   "outputs": [
    {
     "name": "stdout",
     "output_type": "stream",
     "text": [
      "Epoch [50/500], Loss: 0.7112\n",
      "Epoch [100/500], Loss: 0.3500\n",
      "Epoch [150/500], Loss: 0.1278\n",
      "Epoch [200/500], Loss: 0.0265\n",
      "Epoch [250/500], Loss: 0.0031\n",
      "Epoch [300/500], Loss: 0.0003\n",
      "Epoch [350/500], Loss: 0.0000\n",
      "Epoch [400/500], Loss: 0.0000\n",
      "Epoch [450/500], Loss: 0.0000\n",
      "Epoch [500/500], Loss: 0.0000\n"
     ]
    }
   ],
   "source": [
    "import torch\n",
    "import torch.nn as nn\n",
    "import torch.optim as optim\n",
    "\n",
    "# Definición del modelo\n",
    "class NeuralNetwork(nn.Module):\n",
    "    def __init__(self, input_size, hidden_sizes, output_size):\n",
    "        super(NeuralNetwork, self).__init__()\n",
    "        \n",
    "        # Definir las capas de la red\n",
    "        layers = []\n",
    "        in_size = input_size\n",
    "        \n",
    "        for h in hidden_sizes:\n",
    "            layers.append(nn.Linear(in_size, h))\n",
    "            layers.append(nn.ReLU())  # Activación ReLU\n",
    "            in_size = h\n",
    "        \n",
    "        layers.append(nn.Linear(in_size, output_size))  # Capa de salida\n",
    "        self.network = nn.Sequential(*layers)\n",
    "    \n",
    "    def forward(self, x):\n",
    "        return self.network(x)\n",
    "\n",
    "# Parámetros de ejemplo\n",
    "input_size = 10  # Dimensión de los vectores x\n",
    "hidden_sizes = [64, 32]  # Tamaños de las capas ocultas\n",
    "output_size = 1  # Dimensión de los vectores y\n",
    "\n",
    "# Crear el modelo\n",
    "model = NeuralNetwork(input_size, hidden_sizes, output_size)\n",
    "\n",
    "# Definir la función de pérdida y el optimizador\n",
    "criterion = nn.MSELoss()  # Error cuadrático medio para regresión\n",
    "optimizer = optim.Adam(model.parameters(), lr=0.001)\n",
    "\n",
    "# Datos de ejemplo (aquí deberías poner tus datos reales)\n",
    "x = torch.randn(100, input_size)  # 100 muestras con 10 características cada una\n",
    "y = torch.randn(100, output_size)  # 100 etiquetas (valores de salida)\n",
    "\n",
    "# Entrenamiento\n",
    "num_epochs = 500\n",
    "\n",
    "for epoch in range(num_epochs):\n",
    "    # Forward pass\n",
    "    outputs = model(x)\n",
    "    loss = criterion(outputs, y)\n",
    "    \n",
    "    # Backward pass y optimización\n",
    "    optimizer.zero_grad()\n",
    "    loss.backward()\n",
    "    optimizer.step()\n",
    "    \n",
    "    if (epoch+1) % 50 == 0:\n",
    "        print(f'Epoch [{epoch+1}/{num_epochs}], Loss: {loss.item():.4f}')\n",
    "\n",
    "# Una vez entrenado, puedes utilizar el modelo para hacer predicciones\n",
    "# predicciones = model(x)\n"
   ]
  }
 ],
 "metadata": {
  "kernelspec": {
   "display_name": "base",
   "language": "python",
   "name": "python3"
  },
  "language_info": {
   "codemirror_mode": {
    "name": "ipython",
    "version": 3
   },
   "file_extension": ".py",
   "mimetype": "text/x-python",
   "name": "python",
   "nbconvert_exporter": "python",
   "pygments_lexer": "ipython3",
   "version": "3.12.4"
  }
 },
 "nbformat": 4,
 "nbformat_minor": 2
}
