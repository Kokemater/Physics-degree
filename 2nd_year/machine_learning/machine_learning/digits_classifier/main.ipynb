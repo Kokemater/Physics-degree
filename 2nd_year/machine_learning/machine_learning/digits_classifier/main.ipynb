{
 "cells": [
  {
   "cell_type": "code",
   "execution_count": 1,
   "metadata": {},
   "outputs": [
    {
     "name": "stdout",
     "output_type": "stream",
     "text": [
      "x_shape = (784, 42000)\n",
      "y_shape = (42000,)\n"
     ]
    }
   ],
   "source": [
    "import numpy as np\n",
    "import pandas as pd\n",
    "from matplotlib import pyplot as plt\n",
    "\n",
    "data = pd.read_csv('MNIST_dataset/train.csv')\n",
    "\n",
    "data = np.array(data)\n",
    "x = data[:, 1:].T\n",
    "y = data[:, 0]\n",
    "print(f\"x_shape = {x.shape}\")\n",
    "print(f\"y_shape = {y.shape}\")"
   ]
  },
  {
   "cell_type": "markdown",
   "metadata": {},
   "source": [
    "Vamos a crear una red neuronal con la siguiente estructura: (784 x 12 x 12 x 10)"
   ]
  },
  {
   "cell_type": "markdown",
   "metadata": {},
   "source": [
    "![waterfall](nn.png)"
   ]
  },
  {
   "cell_type": "markdown",
   "metadata": {},
   "source": [
    "Functions"
   ]
  },
  {
   "cell_type": "code",
   "execution_count": 2,
   "metadata": {},
   "outputs": [],
   "source": [
    "def ReLU(x):\n",
    "    return np.maximum(0, x)\n",
    "\n",
    "# Derivada de la función ReLU para arrays de numpy\n",
    "def deriv_ReLU(x):\n",
    "    return np.where(x >= 0, 1, 0)\n",
    "\n",
    "def sigmoid(x):\n",
    "    return 1 / (1 + np.exp(-x))\n",
    "\n",
    "# Derivada de la función Sigmoide\n",
    "def deriv_sigmoid(x):\n",
    "    sig = sigmoid(x)\n",
    "    return sig * (1 - sig)\n",
    "\n",
    "def MSE(y, a_2):\n",
    "    return np.sum((a_2 - y)**2)"
   ]
  },
  {
   "cell_type": "markdown",
   "metadata": {},
   "source": [
    "Cambiamos el output deseado de número a vector con 1 en el correcto y 0 en el resto"
   ]
  },
  {
   "cell_type": "code",
   "execution_count": 3,
   "metadata": {},
   "outputs": [],
   "source": [
    "def one_hot_encode(number, num_classes = 10):\n",
    "    # Crear un vector de ceros de longitud igual al número de clases\n",
    "    one_hot = np.zeros(num_classes)\n",
    "    # Colocar un 1 en la posición correspondiente al número\n",
    "    one_hot[number] = 1\n",
    "    return one_hot\n",
    "y = np.array([one_hot_encode(num) for num in y]).T\n"
   ]
  },
  {
   "cell_type": "code",
   "execution_count": 4,
   "metadata": {},
   "outputs": [],
   "source": [
    "W1 = np.random.randn(12, 784)\n",
    "W2 = np.random.randn(12, 12)\n",
    "W3 = np.random.randn(10,12)\n",
    "b1 = np.random.randn(12,)\n",
    "b2 = np.random.randn(12,)\n",
    "b3 = np.random.randn(10,)"
   ]
  },
  {
   "cell_type": "code",
   "execution_count": 5,
   "metadata": {},
   "outputs": [
    {
     "name": "stderr",
     "output_type": "stream",
     "text": [
      "/tmp/ipykernel_63261/1140663413.py:9: RuntimeWarning: overflow encountered in exp\n",
      "  return 1 / (1 + np.exp(-x))\n"
     ]
    },
    {
     "ename": "KeyboardInterrupt",
     "evalue": "",
     "output_type": "error",
     "traceback": [
      "\u001b[0;31m---------------------------------------------------------------------------\u001b[0m",
      "\u001b[0;31mKeyboardInterrupt\u001b[0m                         Traceback (most recent call last)",
      "Cell \u001b[0;32mIn[5], line 7\u001b[0m\n\u001b[1;32m      4\u001b[0m iterations \u001b[38;5;241m=\u001b[39m [i \u001b[38;5;28;01mfor\u001b[39;00m i \u001b[38;5;129;01min\u001b[39;00m \u001b[38;5;28mrange\u001b[39m(\u001b[38;5;241m10000\u001b[39m)]\n\u001b[1;32m      5\u001b[0m \u001b[38;5;28;01mfor\u001b[39;00m _ \u001b[38;5;129;01min\u001b[39;00m iterations:\n\u001b[1;32m      6\u001b[0m     \u001b[38;5;66;03m# forward propagation\u001b[39;00m\n\u001b[0;32m----> 7\u001b[0m     Z1 \u001b[38;5;241m=\u001b[39m \u001b[43mnp\u001b[49m\u001b[38;5;241;43m.\u001b[39;49m\u001b[43mdot\u001b[49m\u001b[43m(\u001b[49m\u001b[43mW1\u001b[49m\u001b[43m,\u001b[49m\u001b[43mx\u001b[49m\u001b[43m)\u001b[49m \u001b[38;5;241m+\u001b[39m b1[:, np\u001b[38;5;241m.\u001b[39mnewaxis]\n\u001b[1;32m      8\u001b[0m     A1 \u001b[38;5;241m=\u001b[39m ReLU(Z1)\n\u001b[1;32m      9\u001b[0m     Z2 \u001b[38;5;241m=\u001b[39m np\u001b[38;5;241m.\u001b[39mdot(W2,A1) \u001b[38;5;241m+\u001b[39m b2[:, np\u001b[38;5;241m.\u001b[39mnewaxis]\n",
      "\u001b[0;31mKeyboardInterrupt\u001b[0m: "
     ]
    }
   ],
   "source": [
    "# 56 minutos !!!!!!!! ( Muy lento, se puede optimizar mucho aún)\n",
    "learning_rate = 0.0001\n",
    "costs = []\n",
    "iterations = [i for i in range(10000)]\n",
    "for _ in iterations:\n",
    "    # forward propagation\n",
    "    Z1 = np.dot(W1,x) + b1[:, np.newaxis]\n",
    "    A1 = ReLU(Z1)\n",
    "    Z2 = np.dot(W2,A1) + b2[:, np.newaxis]\n",
    "    A2 = sigmoid(Z2)\n",
    "    Z3 = np.dot(W3,A2) + b3[:, np.newaxis]\n",
    "    A3 = sigmoid(Z3)\n",
    "    costs.append(MSE(y, A3))\n",
    "    # Backpropagation\n",
    "    delta3 = -(y - A3) * deriv_sigmoid(Z3)\n",
    "    delta2 = np.dot(W3.T, delta3) * deriv_sigmoid(Z2)\n",
    "    delta1 = np.dot(W2.T, delta2) * deriv_ReLU(Z1)\n",
    "\n",
    "    W3 -= learning_rate * np.dot(delta3, A2.T)\n",
    "    b3 -= learning_rate * np.sum(delta3)\n",
    "    W2 -= learning_rate * np.dot(delta2, A1.T)\n",
    "    b2 -= learning_rate * np.sum(delta2)\n",
    "    W1 -= learning_rate * np.dot(delta1, x.T)\n",
    "    b1 -= learning_rate * np.sum(delta1)\n"
   ]
  },
  {
   "cell_type": "code",
   "execution_count": null,
   "metadata": {},
   "outputs": [
    {
     "data": {
      "image/png": "[encoded data removed]",
      "text/plain": [
       "<Figure size 800x600 with 1 Axes>"
      ]
     },
     "metadata": {},
     "output_type": "display_data"
    }
   ],
   "source": [
    "\n",
    "plt.figure(figsize=(8, 6))\n",
    "plt.plot(iterations, costs, label='Loss', color='blue')\n",
    "plt.title('MSE error')\n",
    "plt.xlabel('n iterations')\n",
    "plt.ylabel('Loss')\n",
    "plt.legend()\n",
    "plt.grid(True)"
   ]
  },
  {
   "cell_type": "code",
   "execution_count": null,
   "metadata": {},
   "outputs": [
    {
     "name": "stdout",
     "output_type": "stream",
     "text": [
      "5710.242014935678\n",
      "correct = 38531\n",
      "errors = 3469\n",
      "Accuracy = 0.917404761904762\n"
     ]
    }
   ],
   "source": [
    "print(MSE(y, A3))\n",
    "\n",
    "\n",
    "predictions = np.argmax(A3, axis=0)\n",
    "real = np.argmax(y, axis=0)\n",
    "correct = 0\n",
    "error = 0\n",
    "for i in range(len(predictions)):\n",
    "    if predictions[i] == real[i]:\n",
    "        correct+=1\n",
    "    else:\n",
    "        error+=1\n",
    "print(f\"correct = {correct}\")\n",
    "print(f\"errors = {error}\")\n",
    "print(f\"Accuracy = {correct / len(predictions)}\")\n"
   ]
  }
 ],
 "metadata": {
  "kernelspec": {
   "display_name": "Python 3",
   "language": "python",
   "name": "python3"
  },
  "language_info": {
   "codemirror_mode": {
    "name": "ipython",
    "version": 3
   },
   "file_extension": ".py",
   "mimetype": "text/x-python",
   "name": "python",
   "nbconvert_exporter": "python",
   "pygments_lexer": "ipython3",
   "version": "3.10.12"
  }
 },
 "nbformat": 4,
 "nbformat_minor": 2
}
